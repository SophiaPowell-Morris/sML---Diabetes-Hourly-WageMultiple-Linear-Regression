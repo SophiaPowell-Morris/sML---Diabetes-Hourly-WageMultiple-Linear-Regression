{
 "cells": [
  {
   "cell_type": "code",
   "execution_count": 843,
   "id": "b9c82cc1",
   "metadata": {
    "scrolled": true
   },
   "outputs": [
    {
     "data": {
      "text/html": [
       "<div>\n",
       "<style scoped>\n",
       "    .dataframe tbody tr th:only-of-type {\n",
       "        vertical-align: middle;\n",
       "    }\n",
       "\n",
       "    .dataframe tbody tr th {\n",
       "        vertical-align: top;\n",
       "    }\n",
       "\n",
       "    .dataframe thead th {\n",
       "        text-align: right;\n",
       "    }\n",
       "</style>\n",
       "<table border=\"1\" class=\"dataframe\">\n",
       "  <thead>\n",
       "    <tr style=\"text-align: right;\">\n",
       "      <th></th>\n",
       "      <th>position</th>\n",
       "      <th>agerange</th>\n",
       "      <th>yrsscale</th>\n",
       "      <th>hourwage</th>\n",
       "    </tr>\n",
       "  </thead>\n",
       "  <tbody>\n",
       "    <tr>\n",
       "      <th>0</th>\n",
       "      <td>1</td>\n",
       "      <td>1</td>\n",
       "      <td>2</td>\n",
       "      <td>13.736234054538</td>\n",
       "    </tr>\n",
       "    <tr>\n",
       "      <th>1</th>\n",
       "      <td>0</td>\n",
       "      <td>1</td>\n",
       "      <td>2</td>\n",
       "      <td>16.4407309689108</td>\n",
       "    </tr>\n",
       "    <tr>\n",
       "      <th>2</th>\n",
       "      <td>0</td>\n",
       "      <td>1</td>\n",
       "      <td>3</td>\n",
       "      <td>21.3891077239505</td>\n",
       "    </tr>\n",
       "    <tr>\n",
       "      <th>3</th>\n",
       "      <td>1</td>\n",
       "      <td>1</td>\n",
       "      <td>1</td>\n",
       "      <td>11.377187468408</td>\n",
       "    </tr>\n",
       "    <tr>\n",
       "      <th>4</th>\n",
       "      <td>0</td>\n",
       "      <td>1</td>\n",
       "      <td>3</td>\n",
       "      <td>21.5607775454338</td>\n",
       "    </tr>\n",
       "    <tr>\n",
       "      <th>5</th>\n",
       "      <td>0</td>\n",
       "      <td>1</td>\n",
       "      <td>1</td>\n",
       "      <td>18.1174858901292</td>\n",
       "    </tr>\n",
       "    <tr>\n",
       "      <th>6</th>\n",
       "      <td>1</td>\n",
       "      <td>1</td>\n",
       "      <td>3</td>\n",
       "      <td>13.1400498995424</td>\n",
       "    </tr>\n",
       "    <tr>\n",
       "      <th>7</th>\n",
       "      <td>0</td>\n",
       "      <td>1</td>\n",
       "      <td>1</td>\n",
       "      <td>24.7253574648846</td>\n",
       "    </tr>\n",
       "    <tr>\n",
       "      <th>8</th>\n",
       "      <td>0</td>\n",
       "      <td>1</td>\n",
       "      <td>2</td>\n",
       "      <td>15.7033859876378</td>\n",
       "    </tr>\n",
       "    <tr>\n",
       "      <th>9</th>\n",
       "      <td>1</td>\n",
       "      <td>1</td>\n",
       "      <td>1</td>\n",
       "      <td>18.9398303592689</td>\n",
       "    </tr>\n",
       "  </tbody>\n",
       "</table>\n",
       "</div>"
      ],
      "text/plain": [
       "   position  agerange  yrsscale          hourwage\n",
       "0         1         1         2   13.736234054538\n",
       "1         0         1         2  16.4407309689108\n",
       "2         0         1         3  21.3891077239505\n",
       "3         1         1         1   11.377187468408\n",
       "4         0         1         3  21.5607775454338\n",
       "5         0         1         1  18.1174858901292\n",
       "6         1         1         3  13.1400498995424\n",
       "7         0         1         1  24.7253574648846\n",
       "8         0         1         2  15.7033859876378\n",
       "9         1         1         1  18.9398303592689"
      ]
     },
     "execution_count": 843,
     "metadata": {},
     "output_type": "execute_result"
    }
   ],
   "source": [
    "#Importing Libraries\n",
    "import numpy as np\n",
    "import pandas as pd\n",
    "import matplotlib.pyplot as plt\n",
    "from sklearn.linear_model import LinearRegression\n",
    "\n",
    "#Importing the dataset\n",
    "data = pd.read_csv(\"hourlywagedata.csv\")\n",
    "data.head(10)"
   ]
  },
  {
   "cell_type": "markdown",
   "id": "2b3ec838",
   "metadata": {},
   "source": [
    "## Cleaning Dataset"
   ]
  },
  {
   "cell_type": "code",
   "execution_count": 844,
   "id": "75c52993",
   "metadata": {},
   "outputs": [
    {
     "data": {
      "text/plain": [
       "position     int64\n",
       "agerange     int64\n",
       "yrsscale     int64\n",
       "hourwage    object\n",
       "dtype: object"
      ]
     },
     "execution_count": 844,
     "metadata": {},
     "output_type": "execute_result"
    }
   ],
   "source": [
    "data.dtypes"
   ]
  },
  {
   "cell_type": "code",
   "execution_count": 845,
   "id": "78fa8a71",
   "metadata": {},
   "outputs": [
    {
     "data": {
      "text/plain": [
       "(3000, 4)"
      ]
     },
     "execution_count": 845,
     "metadata": {},
     "output_type": "execute_result"
    }
   ],
   "source": [
    "data.shape"
   ]
  },
  {
   "cell_type": "markdown",
   "id": "3b8f5edc",
   "metadata": {},
   "source": [
    "#### Checking if any missing data is of the form NaN"
   ]
  },
  {
   "cell_type": "code",
   "execution_count": 846,
   "id": "9b3c2d4b",
   "metadata": {},
   "outputs": [
    {
     "data": {
      "text/plain": [
       "position    0\n",
       "agerange    0\n",
       "yrsscale    0\n",
       "hourwage    0\n",
       "dtype: int64"
      ]
     },
     "execution_count": 846,
     "metadata": {},
     "output_type": "execute_result"
    }
   ],
   "source": [
    "missingvaluecount = data.isna().sum()\n",
    "missingvaluecount"
   ]
  },
  {
   "cell_type": "markdown",
   "id": "97d85326",
   "metadata": {},
   "source": [
    "#### Checking all unique entries in each column to determine which columns the missing data is in"
   ]
  },
  {
   "cell_type": "code",
   "execution_count": 847,
   "id": "45efec87",
   "metadata": {},
   "outputs": [
    {
     "data": {
      "text/plain": [
       "array(['13.736234054538', '16.4407309689108', '21.3891077239505', ...,\n",
       "       '18.4502340056492', '19.1444598024073', '13.638465988071'],\n",
       "      dtype=object)"
      ]
     },
     "execution_count": 847,
     "metadata": {},
     "output_type": "execute_result"
    }
   ],
   "source": [
    "data['position'].unique()\n",
    "data['agerange'].unique()\n",
    "data['yrsscale'].unique()\n",
    "data['hourwage'].unique()"
   ]
  },
  {
   "cell_type": "markdown",
   "id": "991541a5",
   "metadata": {},
   "source": [
    "#### Searching the entire data set for empty string values"
   ]
  },
  {
   "cell_type": "code",
   "execution_count": 848,
   "id": "af4d39dd",
   "metadata": {},
   "outputs": [
    {
     "data": {
      "text/html": [
       "<div>\n",
       "<style scoped>\n",
       "    .dataframe tbody tr th:only-of-type {\n",
       "        vertical-align: middle;\n",
       "    }\n",
       "\n",
       "    .dataframe tbody tr th {\n",
       "        vertical-align: top;\n",
       "    }\n",
       "\n",
       "    .dataframe thead th {\n",
       "        text-align: right;\n",
       "    }\n",
       "</style>\n",
       "<table border=\"1\" class=\"dataframe\">\n",
       "  <thead>\n",
       "    <tr style=\"text-align: right;\">\n",
       "      <th></th>\n",
       "      <th>position</th>\n",
       "      <th>agerange</th>\n",
       "      <th>yrsscale</th>\n",
       "      <th>hourwage</th>\n",
       "    </tr>\n",
       "  </thead>\n",
       "  <tbody>\n",
       "    <tr>\n",
       "      <th>21</th>\n",
       "      <td>1</td>\n",
       "      <td>1</td>\n",
       "      <td>3</td>\n",
       "      <td></td>\n",
       "    </tr>\n",
       "    <tr>\n",
       "      <th>52</th>\n",
       "      <td>0</td>\n",
       "      <td>1</td>\n",
       "      <td>1</td>\n",
       "      <td></td>\n",
       "    </tr>\n",
       "    <tr>\n",
       "      <th>108</th>\n",
       "      <td>1</td>\n",
       "      <td>1</td>\n",
       "      <td>2</td>\n",
       "      <td></td>\n",
       "    </tr>\n",
       "    <tr>\n",
       "      <th>117</th>\n",
       "      <td>1</td>\n",
       "      <td>1</td>\n",
       "      <td>2</td>\n",
       "      <td></td>\n",
       "    </tr>\n",
       "    <tr>\n",
       "      <th>151</th>\n",
       "      <td>0</td>\n",
       "      <td>1</td>\n",
       "      <td>2</td>\n",
       "      <td></td>\n",
       "    </tr>\n",
       "    <tr>\n",
       "      <th>...</th>\n",
       "      <td>...</td>\n",
       "      <td>...</td>\n",
       "      <td>...</td>\n",
       "      <td>...</td>\n",
       "    </tr>\n",
       "    <tr>\n",
       "      <th>2793</th>\n",
       "      <td>1</td>\n",
       "      <td>3</td>\n",
       "      <td>4</td>\n",
       "      <td></td>\n",
       "    </tr>\n",
       "    <tr>\n",
       "      <th>2867</th>\n",
       "      <td>0</td>\n",
       "      <td>3</td>\n",
       "      <td>5</td>\n",
       "      <td></td>\n",
       "    </tr>\n",
       "    <tr>\n",
       "      <th>2946</th>\n",
       "      <td>1</td>\n",
       "      <td>3</td>\n",
       "      <td>5</td>\n",
       "      <td></td>\n",
       "    </tr>\n",
       "    <tr>\n",
       "      <th>2947</th>\n",
       "      <td>0</td>\n",
       "      <td>3</td>\n",
       "      <td>3</td>\n",
       "      <td></td>\n",
       "    </tr>\n",
       "    <tr>\n",
       "      <th>2979</th>\n",
       "      <td>1</td>\n",
       "      <td>3</td>\n",
       "      <td>5</td>\n",
       "      <td></td>\n",
       "    </tr>\n",
       "  </tbody>\n",
       "</table>\n",
       "<p>89 rows × 4 columns</p>\n",
       "</div>"
      ],
      "text/plain": [
       "      position  agerange  yrsscale hourwage\n",
       "21           1         1         3         \n",
       "52           0         1         1         \n",
       "108          1         1         2         \n",
       "117          1         1         2         \n",
       "151          0         1         2         \n",
       "...        ...       ...       ...      ...\n",
       "2793         1         3         4         \n",
       "2867         0         3         5         \n",
       "2946         1         3         5         \n",
       "2947         0         3         3         \n",
       "2979         1         3         5         \n",
       "\n",
       "[89 rows x 4 columns]"
      ]
     },
     "execution_count": 848,
     "metadata": {},
     "output_type": "execute_result"
    }
   ],
   "source": [
    "data[data.eq(\" \").any(1)]"
   ]
  },
  {
   "cell_type": "markdown",
   "id": "e2289c29",
   "metadata": {},
   "source": [
    "There are 89 rows of data in the 'hourwage' column where there is no data entry. "
   ]
  },
  {
   "cell_type": "markdown",
   "id": "14f05112",
   "metadata": {},
   "source": [
    "#### Removing all rows where there are empty strings"
   ]
  },
  {
   "cell_type": "code",
   "execution_count": 849,
   "id": "49ef06cf",
   "metadata": {},
   "outputs": [
    {
     "data": {
      "text/plain": [
       "(2911, 4)"
      ]
     },
     "execution_count": 849,
     "metadata": {},
     "output_type": "execute_result"
    }
   ],
   "source": [
    "df = data.loc[~(data['hourwage'] == \" \")]\n",
    "df.shape"
   ]
  },
  {
   "cell_type": "markdown",
   "id": "92fb2e31",
   "metadata": {},
   "source": [
    "#### Converting datatype of the 'hourwage' column to float"
   ]
  },
  {
   "cell_type": "code",
   "execution_count": 850,
   "id": "92c698c5",
   "metadata": {},
   "outputs": [
    {
     "data": {
      "text/plain": [
       "position      int64\n",
       "agerange      int64\n",
       "yrsscale      int64\n",
       "hourwage    float64\n",
       "dtype: object"
      ]
     },
     "execution_count": 850,
     "metadata": {},
     "output_type": "execute_result"
    }
   ],
   "source": [
    "df = df.astype({'hourwage': float})\n",
    "df.dtypes"
   ]
  },
  {
   "cell_type": "markdown",
   "id": "fb4ed267",
   "metadata": {},
   "source": [
    "## Plots"
   ]
  },
  {
   "cell_type": "markdown",
   "id": "33ddcdb1",
   "metadata": {},
   "source": [
    "Generate three plots showing the average hourly wage against the three\n",
    "categorical independent variables"
   ]
  },
  {
   "cell_type": "code",
   "execution_count": 851,
   "id": "fa3eb55f",
   "metadata": {},
   "outputs": [
    {
     "data": {
      "text/plain": [
       "<matplotlib.lines.Line2D at 0x1ec0dec87c0>"
      ]
     },
     "execution_count": 851,
     "metadata": {},
     "output_type": "execute_result"
    },
    {
     "data": {
      "image/png": "[encoded data removed]",
      "text/plain": [
       "<Figure size 432x288 with 1 Axes>"
      ]
     },
     "metadata": {
      "needs_background": "light"
     },
     "output_type": "display_data"
    },
    {
     "data": {
      "image/png": "[encoded data removed]",
      "text/plain": [
       "<Figure size 432x288 with 1 Axes>"
      ]
     },
     "metadata": {
      "needs_background": "light"
     },
     "output_type": "display_data"
    },
    {
     "data": {
      "image/png": "[encoded data removed]",
      "text/plain": [
       "<Figure size 432x288 with 1 Axes>"
      ]
     },
     "metadata": {
      "needs_background": "light"
     },
     "output_type": "display_data"
    }
   ],
   "source": [
    "df.plot.scatter(x='position', y='hourwage', xticks=[0,1])\n",
    "plt.axhline(y=np.nanmean(df.hourwage))\n",
    "df.plot.scatter(x='agerange', y='hourwage', xticks=[1,2,3])\n",
    "plt.axhline(y=np.nanmean(df.hourwage))\n",
    "df.plot.scatter(x='yrsscale', y='hourwage')\n",
    "plt.axhline(y=np.nanmean(df.hourwage))"
   ]
  },
  {
   "cell_type": "markdown",
   "id": "31f9bcc1",
   "metadata": {},
   "source": [
    "#### Postion \n",
    "* Employee who work in hospitals have an small range in their payscale and typically can earn more those who work in the office whether their pay is below or above the average hourly wage.\n",
    "#### Age Range\n",
    "* Employees in the age range 18-30 appear to potentially earn the least, however these appear to be outliers for this particular group and it is employees in the age range between 31-45 who typically can earn the lowest hourly wage. However, those is age group can also be the highest earns and thus this group has the greatest variance in their hourly salary.\n",
    "#### Yrs Scale\n",
    "* In general, the longer an employee has been with the company the higher the lowest hourly salary employees earn increases. This is also the case on the top end of employees hourly salary however the increase in pay is smaller as the years increase."
   ]
  },
  {
   "cell_type": "markdown",
   "id": "4fd0a949",
   "metadata": {},
   "source": [
    "## Multiple Linear Regression"
   ]
  },
  {
   "cell_type": "markdown",
   "id": "e905f2e9",
   "metadata": {},
   "source": [
    "### Identify the IV's and DV"
   ]
  },
  {
   "cell_type": "code",
   "execution_count": 852,
   "id": "498d9792",
   "metadata": {},
   "outputs": [],
   "source": [
    "X = df.iloc[:,[0,1,2]].values\n",
    "y = df.iloc[:,[3]].values"
   ]
  },
  {
   "cell_type": "code",
   "execution_count": 853,
   "id": "b8431698",
   "metadata": {},
   "outputs": [],
   "source": [
    "X=X.reshape(-1, 3)\n",
    "y=y.reshape(-1, 1)"
   ]
  },
  {
   "cell_type": "markdown",
   "id": "96c7dc74",
   "metadata": {},
   "source": [
    "### Training and Test Samples"
   ]
  },
  {
   "cell_type": "code",
   "execution_count": 854,
   "id": "a81aee41",
   "metadata": {},
   "outputs": [
    {
     "name": "stdout",
     "output_type": "stream",
     "text": [
      "Training data: (2328, 3) (2328, 1)\n",
      "Test data: (583, 3) (583, 1)\n"
     ]
    }
   ],
   "source": [
    "from sklearn.model_selection import train_test_split\n",
    "\n",
    "X_train, X_test, y_train, y_test = train_test_split(X,y,test_size = 0.2, shuffle=True)\n",
    "\n",
    "print (\"Training data:\",X_train.shape, y_train.shape)\n",
    "print (\"Test data:\",X_test.shape, y_test.shape)"
   ]
  },
  {
   "cell_type": "markdown",
   "id": "4cfbdc6e",
   "metadata": {},
   "source": [
    "### Checking distribution of the training and test samples"
   ]
  },
  {
   "cell_type": "code",
   "execution_count": 855,
   "id": "7a889316",
   "metadata": {},
   "outputs": [
    {
     "data": {
      "text/html": [
       "<div>\n",
       "<style scoped>\n",
       "    .dataframe tbody tr th:only-of-type {\n",
       "        vertical-align: middle;\n",
       "    }\n",
       "\n",
       "    .dataframe tbody tr th {\n",
       "        vertical-align: top;\n",
       "    }\n",
       "\n",
       "    .dataframe thead th {\n",
       "        text-align: right;\n",
       "    }\n",
       "</style>\n",
       "<table border=\"1\" class=\"dataframe\">\n",
       "  <thead>\n",
       "    <tr style=\"text-align: right;\">\n",
       "      <th></th>\n",
       "      <th>0</th>\n",
       "      <th>1</th>\n",
       "      <th>2</th>\n",
       "    </tr>\n",
       "  </thead>\n",
       "  <tbody>\n",
       "    <tr>\n",
       "      <th>0</th>\n",
       "      <td>0</td>\n",
       "      <td>3</td>\n",
       "      <td>3</td>\n",
       "    </tr>\n",
       "    <tr>\n",
       "      <th>1</th>\n",
       "      <td>1</td>\n",
       "      <td>3</td>\n",
       "      <td>6</td>\n",
       "    </tr>\n",
       "    <tr>\n",
       "      <th>2</th>\n",
       "      <td>1</td>\n",
       "      <td>2</td>\n",
       "      <td>4</td>\n",
       "    </tr>\n",
       "    <tr>\n",
       "      <th>3</th>\n",
       "      <td>0</td>\n",
       "      <td>2</td>\n",
       "      <td>1</td>\n",
       "    </tr>\n",
       "    <tr>\n",
       "      <th>4</th>\n",
       "      <td>0</td>\n",
       "      <td>2</td>\n",
       "      <td>3</td>\n",
       "    </tr>\n",
       "    <tr>\n",
       "      <th>...</th>\n",
       "      <td>...</td>\n",
       "      <td>...</td>\n",
       "      <td>...</td>\n",
       "    </tr>\n",
       "    <tr>\n",
       "      <th>2323</th>\n",
       "      <td>0</td>\n",
       "      <td>2</td>\n",
       "      <td>3</td>\n",
       "    </tr>\n",
       "    <tr>\n",
       "      <th>2324</th>\n",
       "      <td>0</td>\n",
       "      <td>3</td>\n",
       "      <td>4</td>\n",
       "    </tr>\n",
       "    <tr>\n",
       "      <th>2325</th>\n",
       "      <td>1</td>\n",
       "      <td>2</td>\n",
       "      <td>3</td>\n",
       "    </tr>\n",
       "    <tr>\n",
       "      <th>2326</th>\n",
       "      <td>0</td>\n",
       "      <td>3</td>\n",
       "      <td>3</td>\n",
       "    </tr>\n",
       "    <tr>\n",
       "      <th>2327</th>\n",
       "      <td>0</td>\n",
       "      <td>2</td>\n",
       "      <td>4</td>\n",
       "    </tr>\n",
       "  </tbody>\n",
       "</table>\n",
       "<p>2328 rows × 3 columns</p>\n",
       "</div>"
      ],
      "text/plain": [
       "      0  1  2\n",
       "0     0  3  3\n",
       "1     1  3  6\n",
       "2     1  2  4\n",
       "3     0  2  1\n",
       "4     0  2  3\n",
       "...  .. .. ..\n",
       "2323  0  2  3\n",
       "2324  0  3  4\n",
       "2325  1  2  3\n",
       "2326  0  3  3\n",
       "2327  0  2  4\n",
       "\n",
       "[2328 rows x 3 columns]"
      ]
     },
     "execution_count": 855,
     "metadata": {},
     "output_type": "execute_result"
    }
   ],
   "source": [
    "X_train_df = pd.DataFrame(X_train)\n",
    "X_train_df"
   ]
  },
  {
   "cell_type": "code",
   "execution_count": 856,
   "id": "48fe9174",
   "metadata": {},
   "outputs": [
    {
     "data": {
      "text/html": [
       "<div>\n",
       "<style scoped>\n",
       "    .dataframe tbody tr th:only-of-type {\n",
       "        vertical-align: middle;\n",
       "    }\n",
       "\n",
       "    .dataframe tbody tr th {\n",
       "        vertical-align: top;\n",
       "    }\n",
       "\n",
       "    .dataframe thead th {\n",
       "        text-align: right;\n",
       "    }\n",
       "</style>\n",
       "<table border=\"1\" class=\"dataframe\">\n",
       "  <thead>\n",
       "    <tr style=\"text-align: right;\">\n",
       "      <th></th>\n",
       "      <th>0</th>\n",
       "      <th>1</th>\n",
       "      <th>2</th>\n",
       "    </tr>\n",
       "  </thead>\n",
       "  <tbody>\n",
       "    <tr>\n",
       "      <th>0</th>\n",
       "      <td>1</td>\n",
       "      <td>1</td>\n",
       "      <td>1</td>\n",
       "    </tr>\n",
       "    <tr>\n",
       "      <th>1</th>\n",
       "      <td>1</td>\n",
       "      <td>3</td>\n",
       "      <td>5</td>\n",
       "    </tr>\n",
       "    <tr>\n",
       "      <th>2</th>\n",
       "      <td>0</td>\n",
       "      <td>2</td>\n",
       "      <td>4</td>\n",
       "    </tr>\n",
       "    <tr>\n",
       "      <th>3</th>\n",
       "      <td>0</td>\n",
       "      <td>2</td>\n",
       "      <td>4</td>\n",
       "    </tr>\n",
       "    <tr>\n",
       "      <th>4</th>\n",
       "      <td>0</td>\n",
       "      <td>1</td>\n",
       "      <td>1</td>\n",
       "    </tr>\n",
       "    <tr>\n",
       "      <th>...</th>\n",
       "      <td>...</td>\n",
       "      <td>...</td>\n",
       "      <td>...</td>\n",
       "    </tr>\n",
       "    <tr>\n",
       "      <th>578</th>\n",
       "      <td>0</td>\n",
       "      <td>2</td>\n",
       "      <td>4</td>\n",
       "    </tr>\n",
       "    <tr>\n",
       "      <th>579</th>\n",
       "      <td>0</td>\n",
       "      <td>2</td>\n",
       "      <td>3</td>\n",
       "    </tr>\n",
       "    <tr>\n",
       "      <th>580</th>\n",
       "      <td>0</td>\n",
       "      <td>2</td>\n",
       "      <td>5</td>\n",
       "    </tr>\n",
       "    <tr>\n",
       "      <th>581</th>\n",
       "      <td>0</td>\n",
       "      <td>2</td>\n",
       "      <td>2</td>\n",
       "    </tr>\n",
       "    <tr>\n",
       "      <th>582</th>\n",
       "      <td>0</td>\n",
       "      <td>2</td>\n",
       "      <td>4</td>\n",
       "    </tr>\n",
       "  </tbody>\n",
       "</table>\n",
       "<p>583 rows × 3 columns</p>\n",
       "</div>"
      ],
      "text/plain": [
       "     0  1  2\n",
       "0    1  1  1\n",
       "1    1  3  5\n",
       "2    0  2  4\n",
       "3    0  2  4\n",
       "4    0  1  1\n",
       "..  .. .. ..\n",
       "578  0  2  4\n",
       "579  0  2  3\n",
       "580  0  2  5\n",
       "581  0  2  2\n",
       "582  0  2  4\n",
       "\n",
       "[583 rows x 3 columns]"
      ]
     },
     "execution_count": 856,
     "metadata": {},
     "output_type": "execute_result"
    }
   ],
   "source": [
    "X_test_df = pd.DataFrame(X_test)\n",
    "X_test_df"
   ]
  },
  {
   "cell_type": "code",
   "execution_count": 857,
   "id": "4a25abae",
   "metadata": {},
   "outputs": [
    {
     "data": {
      "text/plain": [
       "Text(0.5, 1.0, \"Distribution of 'Postion' variables Training and Test Set values\")"
      ]
     },
     "execution_count": 857,
     "metadata": {},
     "output_type": "execute_result"
    },
    {
     "data": {
      "image/png": "[encoded data removed]",
      "text/plain": [
       "<Figure size 432x288 with 1 Axes>"
      ]
     },
     "metadata": {
      "needs_background": "light"
     },
     "output_type": "display_data"
    }
   ],
   "source": [
    "plt.hist(X_train_df[0])\n",
    "plt.hist(X_test_df[0])\n",
    "plt.title(\"Distribution of 'Postion' variables Training and Test Set values\")"
   ]
  },
  {
   "cell_type": "code",
   "execution_count": 858,
   "id": "7dc0bce5",
   "metadata": {},
   "outputs": [
    {
     "data": {
      "text/plain": [
       "Text(0.5, 1.0, \"Distribution of 'Age Range' variables Training and Test Set values\")"
      ]
     },
     "execution_count": 858,
     "metadata": {},
     "output_type": "execute_result"
    },
    {
     "data": {
      "image/png": "[encoded data removed]",
      "text/plain": [
       "<Figure size 432x288 with 1 Axes>"
      ]
     },
     "metadata": {
      "needs_background": "light"
     },
     "output_type": "display_data"
    }
   ],
   "source": [
    "plt.hist(X_train_df[1])\n",
    "plt.hist(X_test_df[1])\n",
    "plt.title(\"Distribution of 'Age Range' variables Training and Test Set values\")"
   ]
  },
  {
   "cell_type": "code",
   "execution_count": 859,
   "id": "b2891f03",
   "metadata": {},
   "outputs": [
    {
     "data": {
      "text/plain": [
       "Text(0.5, 1.0, \"Distribution of 'Yrs Scale' variables Training and Test Set values\")"
      ]
     },
     "execution_count": 859,
     "metadata": {},
     "output_type": "execute_result"
    },
    {
     "data": {
      "image/png": "[encoded data removed]",
      "text/plain": [
       "<Figure size 432x288 with 1 Axes>"
      ]
     },
     "metadata": {
      "needs_background": "light"
     },
     "output_type": "display_data"
    }
   ],
   "source": [
    "plt.hist(X_train_df[2])\n",
    "plt.hist(X_test_df[2])\n",
    "plt.title(\"Distribution of 'Yrs Scale' variables Training and Test Set values\")"
   ]
  },
  {
   "cell_type": "markdown",
   "id": "48cc2025",
   "metadata": {},
   "source": [
    "The distribution of the training and test appear to be proportionate for each IV's categorical variables, and thus the distribution does not need to be adjusted using standarisation and just normalisation. "
   ]
  },
  {
   "cell_type": "markdown",
   "id": "c499ee31",
   "metadata": {},
   "source": [
    "## Applying Scalers to the training and test sample sets"
   ]
  },
  {
   "cell_type": "markdown",
   "id": "0749b5b8",
   "metadata": {},
   "source": [
    "As the proportions of the catgeoricals variables for the training and test sets are representative of each other, the MinMaxScaler will be used to normalise all values in each column. "
   ]
  },
  {
   "cell_type": "code",
   "execution_count": 871,
   "id": "7a9a7db2",
   "metadata": {},
   "outputs": [],
   "source": [
    "# importing scaling modules\n",
    "from sklearn.preprocessing import MinMaxScaler"
   ]
  },
  {
   "cell_type": "markdown",
   "id": "2b96f7d9",
   "metadata": {},
   "source": [
    "### MinMaxScaler"
   ]
  },
  {
   "cell_type": "code",
   "execution_count": 861,
   "id": "ad5222b0",
   "metadata": {},
   "outputs": [
    {
     "data": {
      "text/html": [
       "<div>\n",
       "<style scoped>\n",
       "    .dataframe tbody tr th:only-of-type {\n",
       "        vertical-align: middle;\n",
       "    }\n",
       "\n",
       "    .dataframe tbody tr th {\n",
       "        vertical-align: top;\n",
       "    }\n",
       "\n",
       "    .dataframe thead th {\n",
       "        text-align: right;\n",
       "    }\n",
       "</style>\n",
       "<table border=\"1\" class=\"dataframe\">\n",
       "  <thead>\n",
       "    <tr style=\"text-align: right;\">\n",
       "      <th></th>\n",
       "      <th>position</th>\n",
       "      <th>agerange</th>\n",
       "      <th>yrsscale</th>\n",
       "    </tr>\n",
       "  </thead>\n",
       "  <tbody>\n",
       "    <tr>\n",
       "      <th>0</th>\n",
       "      <td>1</td>\n",
       "      <td>1</td>\n",
       "      <td>2</td>\n",
       "    </tr>\n",
       "    <tr>\n",
       "      <th>1</th>\n",
       "      <td>0</td>\n",
       "      <td>1</td>\n",
       "      <td>2</td>\n",
       "    </tr>\n",
       "    <tr>\n",
       "      <th>2</th>\n",
       "      <td>0</td>\n",
       "      <td>1</td>\n",
       "      <td>3</td>\n",
       "    </tr>\n",
       "    <tr>\n",
       "      <th>3</th>\n",
       "      <td>1</td>\n",
       "      <td>1</td>\n",
       "      <td>1</td>\n",
       "    </tr>\n",
       "    <tr>\n",
       "      <th>4</th>\n",
       "      <td>0</td>\n",
       "      <td>1</td>\n",
       "      <td>3</td>\n",
       "    </tr>\n",
       "    <tr>\n",
       "      <th>...</th>\n",
       "      <td>...</td>\n",
       "      <td>...</td>\n",
       "      <td>...</td>\n",
       "    </tr>\n",
       "    <tr>\n",
       "      <th>2995</th>\n",
       "      <td>0</td>\n",
       "      <td>3</td>\n",
       "      <td>4</td>\n",
       "    </tr>\n",
       "    <tr>\n",
       "      <th>2996</th>\n",
       "      <td>0</td>\n",
       "      <td>3</td>\n",
       "      <td>4</td>\n",
       "    </tr>\n",
       "    <tr>\n",
       "      <th>2997</th>\n",
       "      <td>1</td>\n",
       "      <td>3</td>\n",
       "      <td>4</td>\n",
       "    </tr>\n",
       "    <tr>\n",
       "      <th>2998</th>\n",
       "      <td>0</td>\n",
       "      <td>3</td>\n",
       "      <td>4</td>\n",
       "    </tr>\n",
       "    <tr>\n",
       "      <th>2999</th>\n",
       "      <td>0</td>\n",
       "      <td>3</td>\n",
       "      <td>3</td>\n",
       "    </tr>\n",
       "  </tbody>\n",
       "</table>\n",
       "<p>2911 rows × 3 columns</p>\n",
       "</div>"
      ],
      "text/plain": [
       "      position  agerange  yrsscale\n",
       "0            1         1         2\n",
       "1            0         1         2\n",
       "2            0         1         3\n",
       "3            1         1         1\n",
       "4            0         1         3\n",
       "...        ...       ...       ...\n",
       "2995         0         3         4\n",
       "2996         0         3         4\n",
       "2997         1         3         4\n",
       "2998         0         3         4\n",
       "2999         0         3         3\n",
       "\n",
       "[2911 rows x 3 columns]"
      ]
     },
     "execution_count": 861,
     "metadata": {},
     "output_type": "execute_result"
    }
   ],
   "source": [
    "scaler = MinMaxScaler()\n",
    "X_train = scaler.fit_transform(X_train)\n",
    "minmax_df_new = pd.DataFrame(df, columns = ['position', 'agerange', 'yrsscale' ])\n",
    "minmax_df_new"
   ]
  },
  {
   "cell_type": "code",
   "execution_count": 862,
   "id": "5151cab2",
   "metadata": {},
   "outputs": [
    {
     "data": {
      "text/html": [
       "<div>\n",
       "<style scoped>\n",
       "    .dataframe tbody tr th:only-of-type {\n",
       "        vertical-align: middle;\n",
       "    }\n",
       "\n",
       "    .dataframe tbody tr th {\n",
       "        vertical-align: top;\n",
       "    }\n",
       "\n",
       "    .dataframe thead th {\n",
       "        text-align: right;\n",
       "    }\n",
       "</style>\n",
       "<table border=\"1\" class=\"dataframe\">\n",
       "  <thead>\n",
       "    <tr style=\"text-align: right;\">\n",
       "      <th></th>\n",
       "      <th>position</th>\n",
       "      <th>agerange</th>\n",
       "      <th>yrsscale</th>\n",
       "    </tr>\n",
       "  </thead>\n",
       "  <tbody>\n",
       "    <tr>\n",
       "      <th>0</th>\n",
       "      <td>1.0</td>\n",
       "      <td>0.0</td>\n",
       "      <td>0.0</td>\n",
       "    </tr>\n",
       "    <tr>\n",
       "      <th>1</th>\n",
       "      <td>1.0</td>\n",
       "      <td>1.0</td>\n",
       "      <td>0.8</td>\n",
       "    </tr>\n",
       "    <tr>\n",
       "      <th>2</th>\n",
       "      <td>0.0</td>\n",
       "      <td>0.5</td>\n",
       "      <td>0.6</td>\n",
       "    </tr>\n",
       "    <tr>\n",
       "      <th>3</th>\n",
       "      <td>0.0</td>\n",
       "      <td>0.5</td>\n",
       "      <td>0.6</td>\n",
       "    </tr>\n",
       "    <tr>\n",
       "      <th>4</th>\n",
       "      <td>0.0</td>\n",
       "      <td>0.0</td>\n",
       "      <td>0.0</td>\n",
       "    </tr>\n",
       "    <tr>\n",
       "      <th>...</th>\n",
       "      <td>...</td>\n",
       "      <td>...</td>\n",
       "      <td>...</td>\n",
       "    </tr>\n",
       "    <tr>\n",
       "      <th>578</th>\n",
       "      <td>0.0</td>\n",
       "      <td>0.5</td>\n",
       "      <td>0.6</td>\n",
       "    </tr>\n",
       "    <tr>\n",
       "      <th>579</th>\n",
       "      <td>0.0</td>\n",
       "      <td>0.5</td>\n",
       "      <td>0.4</td>\n",
       "    </tr>\n",
       "    <tr>\n",
       "      <th>580</th>\n",
       "      <td>0.0</td>\n",
       "      <td>0.5</td>\n",
       "      <td>0.8</td>\n",
       "    </tr>\n",
       "    <tr>\n",
       "      <th>581</th>\n",
       "      <td>0.0</td>\n",
       "      <td>0.5</td>\n",
       "      <td>0.2</td>\n",
       "    </tr>\n",
       "    <tr>\n",
       "      <th>582</th>\n",
       "      <td>0.0</td>\n",
       "      <td>0.5</td>\n",
       "      <td>0.6</td>\n",
       "    </tr>\n",
       "  </tbody>\n",
       "</table>\n",
       "<p>583 rows × 3 columns</p>\n",
       "</div>"
      ],
      "text/plain": [
       "     position  agerange  yrsscale\n",
       "0         1.0       0.0       0.0\n",
       "1         1.0       1.0       0.8\n",
       "2         0.0       0.5       0.6\n",
       "3         0.0       0.5       0.6\n",
       "4         0.0       0.0       0.0\n",
       "..        ...       ...       ...\n",
       "578       0.0       0.5       0.6\n",
       "579       0.0       0.5       0.4\n",
       "580       0.0       0.5       0.8\n",
       "581       0.0       0.5       0.2\n",
       "582       0.0       0.5       0.6\n",
       "\n",
       "[583 rows x 3 columns]"
      ]
     },
     "execution_count": 862,
     "metadata": {},
     "output_type": "execute_result"
    }
   ],
   "source": [
    "X_test = scaler.transform(X_test)\n",
    "X_test_minmax_new = pd.DataFrame(X_test, columns = ['position', 'agerange', 'yrsscale' ])\n",
    "X_test_minmax_new"
   ]
  },
  {
   "cell_type": "markdown",
   "id": "0938c5bd",
   "metadata": {},
   "source": [
    "### Creating Multiple Linear Regression Model"
   ]
  },
  {
   "cell_type": "code",
   "execution_count": 863,
   "id": "4b423b36",
   "metadata": {},
   "outputs": [],
   "source": [
    "# create an empty linear regression model like below and give it a good variable name\n",
    "hr_wages_model = LinearRegression()\n",
    "\n",
    "# to create the model, we use fit(X,y)\n",
    "model = hr_wages_model.fit(X_train,y_train)"
   ]
  },
  {
   "cell_type": "markdown",
   "id": "5be9ca41",
   "metadata": {},
   "source": [
    "### Prediction for Test Set"
   ]
  },
  {
   "cell_type": "code",
   "execution_count": 864,
   "id": "2aea0975",
   "metadata": {},
   "outputs": [],
   "source": [
    "pred = hr_wages_model.predict(X_test)"
   ]
  },
  {
   "cell_type": "code",
   "execution_count": 865,
   "id": "d35ea6d3",
   "metadata": {},
   "outputs": [
    {
     "data": {
      "text/plain": [
       "array([[16.93690512],\n",
       "       [19.76484985],\n",
       "       [21.07258932],\n",
       "       [21.07258932],\n",
       "       [18.874165  ]])"
      ]
     },
     "execution_count": 865,
     "metadata": {},
     "output_type": "execute_result"
    }
   ],
   "source": [
    "pred[0:5]"
   ]
  },
  {
   "cell_type": "markdown",
   "id": "f16eb7b5",
   "metadata": {},
   "source": [
    "### Error Bar"
   ]
  },
  {
   "cell_type": "code",
   "execution_count": 866,
   "id": "2d68e2aa",
   "metadata": {},
   "outputs": [
    {
     "data": {
      "text/plain": [
       "(583, 1)"
      ]
     },
     "execution_count": 866,
     "metadata": {},
     "output_type": "execute_result"
    },
    {
     "data": {
      "image/png": "[encoded data removed]",
      "text/plain": [
       "<Figure size 432x288 with 1 Axes>"
      ]
     },
     "metadata": {
      "needs_background": "light"
     },
     "output_type": "display_data"
    }
   ],
   "source": [
    "plt.errorbar(range(1,584), y_test.squeeze(), yerr=abs(y_test-pred).squeeze(), fmt='.k', ecolor=\"red\");\n",
    "\n",
    "y_test.shape"
   ]
  },
  {
   "cell_type": "code",
   "execution_count": 867,
   "id": "019e0374",
   "metadata": {},
   "outputs": [
    {
     "name": "stdout",
     "output_type": "stream",
     "text": [
      "Score: 0.14130779857329123\n"
     ]
    }
   ],
   "source": [
    "print (\"Score:\", model.score(X_test, y_test))"
   ]
  },
  {
   "cell_type": "markdown",
   "id": "bfc7b444",
   "metadata": {},
   "source": [
    "Error Score (R^2): 0.14 \n",
    "* This values indicates that our model is not an apporitate estimator with the selected variables as only 14% of the hourly wages can be predicted accurately with the model created."
   ]
  },
  {
   "cell_type": "code",
   "execution_count": 868,
   "id": "1ac00047",
   "metadata": {},
   "outputs": [],
   "source": [
    "from sklearn.metrics import mean_squared_error"
   ]
  },
  {
   "cell_type": "code",
   "execution_count": 873,
   "id": "37f1bfb5",
   "metadata": {},
   "outputs": [
    {
     "data": {
      "text/plain": [
       "3.7801131230070673"
      ]
     },
     "execution_count": 873,
     "metadata": {},
     "output_type": "execute_result"
    }
   ],
   "source": [
    "rmse = mean_squared_error(y_test, pred, squared = False)\n",
    "rmse"
   ]
  },
  {
   "cell_type": "code",
   "execution_count": 877,
   "id": "b95dc7f4",
   "metadata": {},
   "outputs": [
    {
     "name": "stdout",
     "output_type": "stream",
     "text": [
      "7.42376202028865\n",
      "29.5659104549994\n"
     ]
    }
   ],
   "source": [
    "print(y_test.min())\n",
    "print(y_test.max())"
   ]
  },
  {
   "cell_type": "markdown",
   "id": "bcb90e37",
   "metadata": {},
   "source": [
    "RMSE: 3.78\n",
    "* As both the RMSE and R^2 values are low, this suggests that as the y_test values are within a constrained range of 7 - 29 they are easy to predict without the model. Thus, the model is not an apporiate method to predict an employees hourly wage. "
   ]
  },
  {
   "cell_type": "markdown",
   "id": "360e71f9",
   "metadata": {},
   "source": [
    "### Modelled linear equation for dependent variable prediction"
   ]
  },
  {
   "cell_type": "code",
   "execution_count": 870,
   "id": "44a4a854",
   "metadata": {},
   "outputs": [
    {
     "name": "stdout",
     "output_type": "stream",
     "text": [
      "Intercept: \n",
      " [18.874165]\n",
      "Coefficients: \n",
      " [[-1.93725988 -0.3098631   3.92225979]]\n"
     ]
    }
   ],
   "source": [
    "print('Intercept: \\n', model.intercept_)\n",
    "print('Coefficients: \\n', model.coef_)"
   ]
  },
  {
   "cell_type": "markdown",
   "id": "d0e2ac2f",
   "metadata": {},
   "source": [
    "**hourwages** = 18.87 - 1.94(Position) - 0.31(Age Range) + 3.92(Yrs Scale)\n",
    "\n",
    "* Postion has a strong negative impact on an employees hourly wages, this might mean that those who work in the office their salaries are lower in comparison to those who work in the hospitals who's salaries are higher. Which would be seen in the 3 plots where the average salary was compared to the categorical variables.\n",
    "* Age Range also has a negative impact but much smaller than that of an employees Position. This figure suggest that as the age range increases an employees hourly salaries may decrease but only by a small amount. \n",
    "* Yrs Scale appears to have a strong postive impact on an employees salary according to the model in which it suggests that as an employees years at with the company increases so does their salary.\n",
    "\n",
    "Based on this model, it could be recommended to only consider the amount of years an employees has been employed at the company as a way to reflect increases in their hourly pay. "
   ]
  },
  {
   "cell_type": "code",
   "execution_count": null,
   "id": "c896c89c",
   "metadata": {},
   "outputs": [],
   "source": []
  }
 ],
 "metadata": {
  "kernelspec": {
   "display_name": "Python 3",
   "language": "python",
   "name": "python3"
  },
  "language_info": {
   "codemirror_mode": {
    "name": "ipython",
    "version": 3
   },
   "file_extension": ".py",
   "mimetype": "text/x-python",
   "name": "python",
   "nbconvert_exporter": "python",
   "pygments_lexer": "ipython3",
   "version": "3.8.8"
  }
 },
 "nbformat": 4,
 "nbformat_minor": 5
}
